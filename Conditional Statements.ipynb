{
 "cells": [
  {
   "cell_type": "markdown",
   "id": "4543fab3-e0f0-4bb7-9157-b4defacc97c0",
   "metadata": {},
   "source": [
    "Conditional Statements "
   ]
  },
  {
   "cell_type": "code",
   "execution_count": 8,
   "id": "0b099262-0fe3-4e58-9acb-d60e9c9159bb",
   "metadata": {},
   "outputs": [
    {
     "name": "stdin",
     "output_type": "stream",
     "text": [
      "Enter the number. 73\n"
     ]
    },
    {
     "name": "stdout",
     "output_type": "stream",
     "text": [
      "Number is positive.\n",
      "The number is odd.\n"
     ]
    }
   ],
   "source": [
    "#Nested Conditional Statements\n",
    "#Number even. odd or negative\n",
    "num = int(input(\"Enter the number.\"))\n",
    "if num>0:\n",
    "          print(\"Number is positive.\")\n",
    "          if num%2==0:\n",
    "                      print(\"The number is even.\")\n",
    "          else:\n",
    "               print(\"The number is odd.\")\n",
    "else:\n",
    "     print(\"The number is zero or negative.\")"
   ]
  },
  {
   "cell_type": "code",
   "execution_count": 9,
   "id": "3cdf65fd-10fa-4064-82fe-a52ccc802396",
   "metadata": {},
   "outputs": [
    {
     "name": "stdin",
     "output_type": "stream",
     "text": [
      "Enter the year. 2005\n"
     ]
    },
    {
     "name": "stdout",
     "output_type": "stream",
     "text": [
      "2005 is not a leap year.\n"
     ]
    }
   ],
   "source": [
    "#Determine if a year is a leap year using nested condition statement\n",
    "year = int(input(\"Enter the year.\"))\n",
    "if year%4==0:\n",
    "    if year%100==0:\n",
    "        if year%400==0:\n",
    "            print(year,\"is a leap year.\")\n",
    "        else:\n",
    "            print(year,\"is not a leap year.\")\n",
    "    else:\n",
    "        print(year,\"is a leap year.\")\n",
    "else:\n",
    "    print(year,\"is not a leap year.\")"
   ]
  },
  {
   "cell_type": "code",
   "execution_count": 10,
   "id": "6fe7f530-7e48-40cc-ac35-1cd3ef20d981",
   "metadata": {},
   "outputs": [
    {
     "name": "stdin",
     "output_type": "stream",
     "text": [
      "Enter first number. 43\n",
      "Enter second number. 21\n",
      "Enter operation (+, -, *, /):  *\n"
     ]
    },
    {
     "name": "stdout",
     "output_type": "stream",
     "text": [
      "Result:  903.0\n"
     ]
    }
   ],
   "source": [
    "#Simple Calculator program\n",
    "num1 = float(input(\"Enter first number.\"))\n",
    "num2 = float(input(\"Enter second number.\"))\n",
    "operation = input(\"Enter operation (+, -, *, /): \")\n",
    "\n",
    "if operation == '+':\n",
    "    result = num1 + num2\n",
    "elif operation == '-':\n",
    "    result = num1 - num2\n",
    "elif operation == '*':\n",
    "    result = num1 * num2\n",
    "elif operation == '/':\n",
    "    if num2 != 0:\n",
    "        result = num1 / num2\n",
    "    else:\n",
    "        result = \"Error! Division by zero.\"\n",
    "else:\n",
    "    result = \"Invalid operation.\"\n",
    "print(\"Result: \", result)    "
   ]
  },
  {
   "cell_type": "code",
   "execution_count": 16,
   "id": "9261e82e-25b2-4e1c-8ec0-a51a494dd433",
   "metadata": {},
   "outputs": [
    {
     "name": "stdin",
     "output_type": "stream",
     "text": [
      "Enter your age. 26\n",
      "Are you a student? (Yes/No):  No\n"
     ]
    },
    {
     "name": "stdout",
     "output_type": "stream",
     "text": [
      "Ticket Price:  $25\n"
     ]
    }
   ],
   "source": [
    "#Determine the ticket price based on age and whether the person is a student.\n",
    "age = int(input(\"Enter your age.\"))\n",
    "is_student = input(\"Are you a student? (Yes/No): \").lower()        #.lower() method in Python is used to convert all uppercase letters in a string to lowercase.\n",
    "\n",
    "if age<5:\n",
    "    price = \"Free\"\n",
    "elif age<=12:\n",
    "    price = \"$10\"\n",
    "elif age<=18:\n",
    "    if is_student == \"Yes\":\n",
    "         price = \"$12\"\n",
    "    else:\n",
    "         price = \"$15\"\n",
    "elif age<=65:\n",
    "    if is_student == \"Yes\":\n",
    "         price = \"$18\"\n",
    "    else:\n",
    "         price = \"$25\"\n",
    "else:\n",
    "    price = \"$20\"\n",
    "print(\"Ticket Price: \", price)\n",
    "\n",
    "    "
   ]
  },
  {
   "cell_type": "code",
   "execution_count": 17,
   "id": "95acf84c-b588-4906-a6d6-51f86d29c317",
   "metadata": {},
   "outputs": [
    {
     "name": "stdin",
     "output_type": "stream",
     "text": [
      "Enter years of service 5\n",
      "Enter performance rating (1.0 to 5.0: ) 3.8\n",
      "Enter current salary:  45000\n"
     ]
    },
    {
     "name": "stdout",
     "output_type": "stream",
     "text": [
      "Bonus Amount: $2250.00\n"
     ]
    }
   ],
   "source": [
    "#Employee bonus calculation\n",
    "years_of_service = int(input(\"Enter years of service\"))\n",
    "performance_rating = float(input(\"Enter performance rating (1.0 to 5.0: )\"))\n",
    "\n",
    "if performance_rating >= 4.5:\n",
    "    if years_of_service > 10:\n",
    "        bonus_percentage = 20\n",
    "    elif years_of_service > 5:\n",
    "        bonus_percentage = 15\n",
    "    else:\n",
    "        bonus_percentage = 10\n",
    "elif performance_rating >= 3.5:\n",
    "    if years_of_service > 10:\n",
    "        bonus_percentage = 15\n",
    "    elif years_of_service > 5:\n",
    "        bonus_percentage = 10\n",
    "    else:\n",
    "        bonus_percentage = 5\n",
    "else:\n",
    "    bonus_percentage = 0\n",
    "\n",
    "# Calculate bonus amount\n",
    "salary = float(input(\"Enter current salary: \"))\n",
    "bonus_amount = salary * bonus_percentage / 100\n",
    "print(\"Bonus Amount: ${:.2f}\".format(bonus_amount))   #:.2f\t=> Format the number as a float with 2 digits after the decimal point"
   ]
  },
  {
   "cell_type": "code",
   "execution_count": 18,
   "id": "07950a10-ffbf-4de8-acbd-f698d3c715f5",
   "metadata": {},
   "outputs": [
    {
     "name": "stdin",
     "output_type": "stream",
     "text": [
      "Enter username:  Vaishnavi\n",
      "Enter password:  12345\n"
     ]
    },
    {
     "name": "stdout",
     "output_type": "stream",
     "text": [
      "Login successful!\n"
     ]
    }
   ],
   "source": [
    "#User login system\n",
    "stored_username = \"Vaishnavi\"\n",
    "stored_password = \"12345\"\n",
    "\n",
    "username = input(\"Enter username: \")\n",
    "password = input(\"Enter password: \")\n",
    "if username == stored_username:\n",
    "    if password == stored_password:\n",
    "        print(\"Login successful!\")\n",
    "    else:\n",
    "        print(\"Incorrect password.\")\n",
    "else:\n",
    "    print(\"Username not found.\")"
   ]
  },
  {
   "cell_type": "code",
   "execution_count": null,
   "id": "b4901b3a-dd36-4035-a465-c6906a27e120",
   "metadata": {},
   "outputs": [],
   "source": []
  }
 ],
 "metadata": {
  "kernelspec": {
   "display_name": "Python 3 (ipykernel)",
   "language": "python",
   "name": "python3"
  },
  "language_info": {
   "codemirror_mode": {
    "name": "ipython",
    "version": 3
   },
   "file_extension": ".py",
   "mimetype": "text/x-python",
   "name": "python",
   "nbconvert_exporter": "python",
   "pygments_lexer": "ipython3",
   "version": "3.12.7"
  }
 },
 "nbformat": 4,
 "nbformat_minor": 5
}
