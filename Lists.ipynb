{
 "cells": [
  {
   "cell_type": "markdown",
   "id": "08bf4827-7a45-45f9-a80e-d58d0014fb24",
   "metadata": {},
   "source": [
    "Lists are ordered, mutable collections of items. They can contain items of different data types."
   ]
  },
  {
   "cell_type": "code",
   "execution_count": 9,
   "id": "23f2fe74-21f2-43b9-ba62-b4c5b8508ff2",
   "metadata": {},
   "outputs": [
    {
     "name": "stdout",
     "output_type": "stream",
     "text": [
      "<class 'list'>\n"
     ]
    }
   ],
   "source": [
    "lst = ['apple', 'banana', 'cherry', 'gauva', 'kiwi', 'watermelon']\n",
    "print(type(lst))"
   ]
  },
  {
   "cell_type": "code",
   "execution_count": 10,
   "id": "de4a834c-3455-44f2-83b5-9aaf70ebf560",
   "metadata": {},
   "outputs": [
    {
     "name": "stdout",
     "output_type": "stream",
     "text": [
      "['apple', 'banana', 'cherry', 'gauva', 'kiwi', 'watermelon', 'orange']\n",
      "['apple', 'strawberry', 'banana', 'cherry', 'gauva', 'kiwi', 'watermelon', 'orange']\n",
      "['apple', 'strawberry', 'cherry', 'gauva', 'kiwi', 'watermelon', 'orange']\n",
      "orange\n",
      "['apple', 'strawberry', 'cherry', 'gauva', 'kiwi', 'watermelon']\n",
      "2\n",
      "['apple', 'cherry', 'gauva', 'kiwi', 'strawberry', 'watermelon']\n",
      "['watermelon', 'strawberry', 'kiwi', 'gauva', 'cherry', 'apple']\n"
     ]
    }
   ],
   "source": [
    "#List Methods\n",
    "lst.append('orange')\n",
    "print(lst)\n",
    "     \n",
    "lst.insert(1,'strawberry')\n",
    "print(lst)\n",
    "      \n",
    "lst.remove('banana')\n",
    "print(lst)\n",
    "      \n",
    "## Remove and return the last element\n",
    "popped_lst=lst.pop()\n",
    "print(popped_lst)\n",
    "print(lst)\n",
    "\n",
    "index=lst.index(\"cherry\")\n",
    "print(index)\n",
    "\n",
    "lst.sort()\n",
    "print(lst)\n",
    "\n",
    "lst.reverse()\n",
    "print(lst)"
   ]
  },
  {
   "cell_type": "code",
   "execution_count": 11,
   "id": "da507275-aaad-4dcd-9a3d-8b3f9d6c6031",
   "metadata": {},
   "outputs": [
    {
     "name": "stdout",
     "output_type": "stream",
     "text": [
      "[3, 4, 5]\n",
      "[1, 2, 3, 4, 5]\n",
      "[6, 7, 8, 9, 10]\n",
      "[1, 3, 5, 7, 9]\n",
      "[10, 9, 8, 7, 6, 5, 4, 3, 2, 1]\n"
     ]
    }
   ],
   "source": [
    "#Slicing List\n",
    "numbers = [1, 2, 3, 4, 5, 6, 7, 8, 9, 10]\n",
    "print(numbers[2:5])\n",
    "print(numbers[:5])\n",
    "print(numbers[5:])\n",
    "print(numbers[::2])\n",
    "print(numbers[::-1])"
   ]
  },
  {
   "cell_type": "code",
   "execution_count": 12,
   "id": "a1153c1e-3a96-4567-880e-1b18d62be8ba",
   "metadata": {},
   "outputs": [
    {
     "name": "stdout",
     "output_type": "stream",
     "text": [
      "0 1\n",
      "1 2\n",
      "2 3\n",
      "3 4\n",
      "4 5\n",
      "5 6\n",
      "6 7\n",
      "7 8\n",
      "8 9\n",
      "9 10\n"
     ]
    }
   ],
   "source": [
    "#Iterating with index\n",
    "for index,number in enumerate(numbers):\n",
    "    print(index,number)"
   ]
  },
  {
   "cell_type": "code",
   "execution_count": 13,
   "id": "201cffbc-4cb4-4d03-835f-fca8003d90bb",
   "metadata": {},
   "outputs": [
    {
     "name": "stdout",
     "output_type": "stream",
     "text": [
      "[0, 1, 4, 9, 16, 25, 36, 49, 64, 81]\n"
     ]
    }
   ],
   "source": [
    "#List comprehension\n",
    "lst=[]\n",
    "for x in range(10):\n",
    "    lst.append(x**2)\n",
    "print(lst)"
   ]
  },
  {
   "cell_type": "code",
   "execution_count": 14,
   "id": "c1f561cf-9bf6-4605-ab0c-bab3e8fefa99",
   "metadata": {},
   "outputs": [
    {
     "name": "stdout",
     "output_type": "stream",
     "text": [
      "[0, 1, 4, 9, 16, 25, 36, 49, 64, 81]\n"
     ]
    }
   ],
   "source": [
    "#Basic List Comphrension\n",
    "sqaure=[num**2 for num in range(10)]\n",
    "print(sqaure)"
   ]
  },
  {
   "cell_type": "code",
   "execution_count": 15,
   "id": "2b3f551b-a077-4408-82c3-c6ab511c0833",
   "metadata": {},
   "outputs": [
    {
     "name": "stdout",
     "output_type": "stream",
     "text": [
      "[0, 2, 4, 6, 8]\n"
     ]
    }
   ],
   "source": [
    "#List Comprehension with Condition\n",
    "even_numbers=[num for num in range(10) if num%2==0]\n",
    "print(even_numbers)"
   ]
  },
  {
   "cell_type": "code",
   "execution_count": 16,
   "id": "eee48ec4-c048-4425-ba4c-479e9b7c4c39",
   "metadata": {},
   "outputs": [
    {
     "name": "stdout",
     "output_type": "stream",
     "text": [
      "[[1, 'a'], [1, 'b'], [1, 'c'], [1, 'd'], [2, 'a'], [2, 'b'], [2, 'c'], [2, 'd'], [3, 'a'], [3, 'b'], [3, 'c'], [3, 'd'], [4, 'a'], [4, 'b'], [4, 'c'], [4, 'd']]\n"
     ]
    }
   ],
   "source": [
    "#Nested List Comphrension\n",
    "lst1=[1,2,3,4]\n",
    "lst2=['a','b','c','d']\n",
    "pair=[[i,j] for i in lst1 for j in lst2]\n",
    "print(pair)"
   ]
  },
  {
   "cell_type": "code",
   "execution_count": 17,
   "id": "8673a50c-5258-4053-86a7-14592bd98e12",
   "metadata": {},
   "outputs": [
    {
     "name": "stdout",
     "output_type": "stream",
     "text": [
      "[5, 5, 6, 4, 13]\n"
     ]
    }
   ],
   "source": [
    "#List Comprehension with function calls\n",
    "words = [\"hello\", \"world\", \"python\", \"list\", \"comprehension\"]\n",
    "lengths = [len(word) for word in words]\n",
    "print(lengths) "
   ]
  }
 ],
 "metadata": {
  "kernelspec": {
   "display_name": "Python 3 (ipykernel)",
   "language": "python",
   "name": "python3"
  },
  "language_info": {
   "codemirror_mode": {
    "name": "ipython",
    "version": 3
   },
   "file_extension": ".py",
   "mimetype": "text/x-python",
   "name": "python",
   "nbconvert_exporter": "python",
   "pygments_lexer": "ipython3",
   "version": "3.12.7"
  }
 },
 "nbformat": 4,
 "nbformat_minor": 5
}
