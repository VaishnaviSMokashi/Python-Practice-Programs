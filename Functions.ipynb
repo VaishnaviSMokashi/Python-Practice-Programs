{
 "cells": [
  {
   "cell_type": "markdown",
   "id": "b3f1d1a2-d393-4e7b-9745-ba0dde90fe95",
   "metadata": {},
   "source": [
    "A function is a block of code that performs a specific task. Functions help in organizing code, reusing code, and improving readability."
   ]
  },
  {
   "cell_type": "code",
   "execution_count": 1,
   "id": "28bc16ff-de48-4fa2-b2eb-3a330954f42d",
   "metadata": {},
   "outputs": [],
   "source": [
    "#Syntax\n",
    "def function_name(parameters):\n",
    "    #Function body\n",
    "    return expression"
   ]
  },
  {
   "cell_type": "code",
   "execution_count": 2,
   "id": "21a0471e-9967-4df7-adc0-ae7e8e8e2ace",
   "metadata": {},
   "outputs": [
    {
     "name": "stdout",
     "output_type": "stream",
     "text": [
      "The number is even.\n"
     ]
    }
   ],
   "source": [
    "#Finding even or odd number \n",
    "def even_or_odd(num):\n",
    "    if num%2==0:\n",
    "        print(\"The number is even.\")\n",
    "    else:\n",
    "        print(\"The number is odd.\")\n",
    "#Calling this function\n",
    "even_or_odd(42)"
   ]
  },
  {
   "cell_type": "code",
   "execution_count": 4,
   "id": "11e83908-455f-4ffc-885a-8b2d820f104d",
   "metadata": {},
   "outputs": [
    {
     "name": "stdout",
     "output_type": "stream",
     "text": [
      "48\n"
     ]
    }
   ],
   "source": [
    "#Fucntion with multiple parameters\n",
    "def mul(a,b):\n",
    "    return a*b\n",
    "result=mul(12,4)\n",
    "print(result)"
   ]
  },
  {
   "cell_type": "code",
   "execution_count": 6,
   "id": "29316bc8-fda7-4044-96c4-d3020eb6f6ec",
   "metadata": {},
   "outputs": [
    {
     "name": "stdout",
     "output_type": "stream",
     "text": [
      "Hello Vaishnavi welcome to the paradise!\n"
     ]
    }
   ],
   "source": [
    "#Default parameters\n",
    "def greet(name=\"Vaishnavi\"):\n",
    "    print(f\"Hello {name} welcome to the paradise!\")\n",
    "greet()"
   ]
  },
  {
   "cell_type": "code",
   "execution_count": 7,
   "id": "5e135f2a-f5cb-4f36-8411-8deb327c96a8",
   "metadata": {},
   "outputs": [],
   "source": [
    "#Positional And Keywords arguments\n",
    "#Positional Argument -\n",
    "def print_num(*args):\n",
    "    for number in args:\n",
    "        print(number)"
   ]
  },
  {
   "cell_type": "code",
   "execution_count": 8,
   "id": "49f1ac8a-b480-4f4a-9244-33376a3bbefb",
   "metadata": {},
   "outputs": [
    {
     "name": "stdout",
     "output_type": "stream",
     "text": [
      "1\n",
      "2\n",
      "3\n",
      "4\n",
      "5\n",
      "6\n",
      "7\n",
      "8\n",
      "9\n",
      "0\n"
     ]
    }
   ],
   "source": [
    "print_num(1,2,3,4,5,6,7,8,9,0)"
   ]
  },
  {
   "cell_type": "code",
   "execution_count": 9,
   "id": "a865444f-146c-4a81-b22e-95943a355af9",
   "metadata": {},
   "outputs": [
    {
     "name": "stdout",
     "output_type": "stream",
     "text": [
      "name:Vaishnavi\n",
      "age:26\n",
      "country:India\n"
     ]
    }
   ],
   "source": [
    "#Keyword Argument -\n",
    "def print_details(**kwargs):\n",
    "    for key,value in kwargs.items():\n",
    "        print(f\"{key}:{value}\")\n",
    "print_details(name=\"Vaishnavi\",age=\"26\",country=\"India\")"
   ]
  },
  {
   "cell_type": "code",
   "execution_count": 10,
   "id": "b2e9a742-5fbe-4309-9d0e-1f8da09a58cf",
   "metadata": {},
   "outputs": [
    {
     "name": "stdout",
     "output_type": "stream",
     "text": [
      " Positional arument :1\n",
      " Positional arument :2\n",
      " Positional arument :3\n",
      "name:Vaishnavi\n",
      "age:26\n",
      "country:India\n"
     ]
    }
   ],
   "source": [
    "def print_details(*args,**kwargs):\n",
    "    for val in args:\n",
    "        print(f\" Positional arument :{val}\")\n",
    "    \n",
    "    for key,value in kwargs.items():\n",
    "        print(f\"{key}:{value}\")\n",
    "print_details(1,2,3,name=\"Vaishnavi\",age=\"26\",country=\"India\")"
   ]
  },
  {
   "cell_type": "code",
   "execution_count": 11,
   "id": "bf12e763-d268-4425-ba88-7bf794666617",
   "metadata": {},
   "outputs": [
    {
     "data": {
      "text/plain": [
       "(8, 5)"
      ]
     },
     "execution_count": 11,
     "metadata": {},
     "output_type": "execute_result"
    }
   ],
   "source": [
    "#Return Statements\n",
    "def add(a,b):\n",
    "    return a+b,b\n",
    "add(3,5)"
   ]
  },
  {
   "cell_type": "code",
   "execution_count": 13,
   "id": "bedc4b8f-0901-4b0a-abd0-eb0e7810723b",
   "metadata": {},
   "outputs": [
    {
     "name": "stdout",
     "output_type": "stream",
     "text": [
      "77.0\n",
      "25.0\n"
     ]
    }
   ],
   "source": [
    "#Temperature Conversion\n",
    "def convert_temp(temp,unit):\n",
    "    if unit=='C':\n",
    "        return temp * 9/5 + 32  ## Celsius To Fahrenheit\n",
    "    elif unit==\"F\":\n",
    "        return (temp-32)*5/9 ## Fahrenheit to celsius\n",
    "    else:\n",
    "        return None\n",
    "\n",
    "print(convert_temp(25,'C'))\n",
    "print(convert_temp(77,'F'))"
   ]
  },
  {
   "cell_type": "code",
   "execution_count": 16,
   "id": "9b6cc5fe-2601-42eb-8a4f-f2b2aed578f2",
   "metadata": {},
   "outputs": [
    {
     "name": "stdout",
     "output_type": "stream",
     "text": [
      "False\n",
      "True\n"
     ]
    }
   ],
   "source": [
    "#Password Strength Checker\n",
    "def strng_pw(password):\n",
    "    if len(password)<8:\n",
    "        return False\n",
    "    if not any(char.isdigit() for char in password):\n",
    "        return False\n",
    "    if not any(char.islower() for char in password):\n",
    "        return False\n",
    "    if not any(char.isupper() for char in password):\n",
    "        return False\n",
    "    if not any(char in '!@#$%^&*()_+' for char in password):\n",
    "        return False\n",
    "    return True\n",
    "print(strng_pw(\"Vishame\"))\n",
    "print(strng_pw(\"Adwait@123\"))"
   ]
  },
  {
   "cell_type": "code",
   "execution_count": 17,
   "id": "bb24a9dd-591b-46d3-8e76-55b656ce4b74",
   "metadata": {},
   "outputs": [
    {
     "name": "stdout",
     "output_type": "stream",
     "text": [
      "5.8999999999999995\n"
     ]
    }
   ],
   "source": [
    "#Calculate the Total Cost Of Items In a Shopping Cart\n",
    "def calculate_total_cost(cart):\n",
    "    total_cost=0\n",
    "    for item in cart:\n",
    "        total_cost+=item['price']* item['quantity']\n",
    "    return total_cost\n",
    "#Example cart data\n",
    "cart=[\n",
    "    {'name':'Apple','price':0.5,'quantity':4},\n",
    "    {'name':'Banana','price':0.3,'quantity':6},\n",
    "    {'name':'Orange','price':0.7,'quantity':3}\n",
    "]\n",
    "#calling the function\n",
    "total_cost=calculate_total_cost(cart)\n",
    "print(total_cost)"
   ]
  },
  {
   "cell_type": "code",
   "execution_count": 19,
   "id": "063c27ec-7ea5-48a0-805b-ce87f905b5b8",
   "metadata": {},
   "outputs": [
    {
     "name": "stdout",
     "output_type": "stream",
     "text": [
      "True\n",
      "False\n"
     ]
    }
   ],
   "source": [
    "#Check if a String is Palindrome\n",
    "def is_palindrome(s):\n",
    "    s=s.lower().replace(\" \",\"\")\n",
    "    return s==s[::-1]\n",
    "print(is_palindrome(\"A man a plan a canal Panama\"))\n",
    "print(is_palindrome(\"Hello\"))"
   ]
  },
  {
   "cell_type": "code",
   "execution_count": 21,
   "id": "d0c09454-40c3-44c8-8e25-9de11e6da605",
   "metadata": {},
   "outputs": [
    {
     "name": "stdout",
     "output_type": "stream",
     "text": [
      "120\n"
     ]
    }
   ],
   "source": [
    "#Calculate the factorials of a number using recursion\n",
    "def factorial(n):\n",
    "    if n==0:\n",
    "        return 1\n",
    "    else:\n",
    "        return n * factorial(n-1)\n",
    "print(factorial(5))"
   ]
  },
  {
   "cell_type": "code",
   "execution_count": 22,
   "id": "86d6a9d1-2b94-4e35-a290-9989400646e8",
   "metadata": {},
   "outputs": [
    {
     "name": "stdout",
     "output_type": "stream",
     "text": [
      "{'hello': 1, 'world': 1, 'how': 1, 'are': 1, 'you': 1, 'my': 1, 'name': 1, 'is': 1, 'krish': 2}\n"
     ]
    }
   ],
   "source": [
    "#A Function To Read A File and count the frequency of each word\n",
    "def count_word_frequency(file_path):\n",
    "    word_count={}\n",
    "    with open(file_path,'r') as file:\n",
    "        for line in file:\n",
    "            words=line.split()\n",
    "            for word in words:\n",
    "                word=word.lower().strip('.,!?;:\"\\'')\n",
    "                word_count[word]=word_count.get(word,0)+1\n",
    "    return word_count\n",
    "filepath = 'sample.txt'\n",
    "word_frequency=count_word_frequency(filepath)\n",
    "print(word_frequency)"
   ]
  },
  {
   "cell_type": "code",
   "execution_count": null,
   "id": "1a83b530-7d0a-49fc-9dfe-52709e0b25d2",
   "metadata": {},
   "outputs": [],
   "source": [
    "#Validate Email Address\n",
    "import re\n",
    "def is_email_valid(email):\n",
    "    pattern = r'^[a-zA-Z0-9_.+-]+@[a-zA-Z0-9-]+\\.[a-zA-Z0-9-.]+$'\n",
    "    return re.match(pattern, email) is not None"
   ]
  }
 ],
 "metadata": {
  "kernelspec": {
   "display_name": "Python 3 (ipykernel)",
   "language": "python",
   "name": "python3"
  },
  "language_info": {
   "codemirror_mode": {
    "name": "ipython",
    "version": 3
   },
   "file_extension": ".py",
   "mimetype": "text/x-python",
   "name": "python",
   "nbconvert_exporter": "python",
   "pygments_lexer": "ipython3",
   "version": "3.12.7"
  }
 },
 "nbformat": 4,
 "nbformat_minor": 5
}
